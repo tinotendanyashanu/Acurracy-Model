{
 "cells": [
  {
   "cell_type": "code",
   "execution_count": 1,
   "id": "52c6dc16",
   "metadata": {},
   "outputs": [
    {
     "data": {
      "text/plain": [
       "1.0"
      ]
     },
     "execution_count": 1,
     "metadata": {},
     "output_type": "execute_result"
    }
   ],
   "source": [
    "# Step1- we first import our liraries \n",
    "import pandas as pd\n",
    "from sklearn.tree import DecisionTreeClassifier\n",
    "from sklearn.model_selection import train_test_split\n",
    "from sklearn.metrics import accuracy_score\n",
    "\n",
    "# step-2 We import our data\n",
    "my = pd.read_csv('music.csv')\n",
    "\n",
    "# Step-3 We create our inputs and outputs \n",
    "X = my.drop(columns=['genre'])\n",
    "Y=my[\"genre\"]\n",
    "# step-5 we train our data\n",
    "X_train,X_test,Y_train,Y_test = train_test_split(X,Y,test_size=0.2)\n",
    "# step- 4 create our model \n",
    "model = DecisionTreeClassifier()\n",
    "model.fit(X_train,Y_train)\n",
    "prediction = model.predict(X_test)\n",
    "score = accuracy_score(Y_test , prediction)\n",
    "score\n",
    "\n",
    "prediction = model.predict(X_test)\n",
    "score = accuracy_score(Y_test , prediction)\n",
    "score"
   ]
  },
  {
   "cell_type": "code",
   "execution_count": null,
   "id": "0341fdd1",
   "metadata": {},
   "outputs": [],
   "source": []
  }
 ],
 "metadata": {
  "kernelspec": {
   "display_name": "Python 3 (ipykernel)",
   "language": "python",
   "name": "python3"
  },
  "language_info": {
   "codemirror_mode": {
    "name": "ipython",
    "version": 3
   },
   "file_extension": ".py",
   "mimetype": "text/x-python",
   "name": "python",
   "nbconvert_exporter": "python",
   "pygments_lexer": "ipython3",
   "version": "3.10.4"
  }
 },
 "nbformat": 4,
 "nbformat_minor": 5
}
